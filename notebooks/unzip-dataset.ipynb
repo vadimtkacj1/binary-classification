{
 "cells": [
  {
   "cell_type": "markdown",
   "metadata": {},
   "source": [
    "## Dependency"
   ]
  },
  {
   "cell_type": "code",
   "execution_count": null,
   "metadata": {},
   "outputs": [],
   "source": [
    "import os\n",
    "import zipfile"
   ]
  },
  {
   "cell_type": "markdown",
   "metadata": {},
   "source": [
    "## Constants"
   ]
  },
  {
   "cell_type": "code",
   "execution_count": 2,
   "metadata": {},
   "outputs": [],
   "source": [
    "LINUX_MACOS = 'posix'  # For Linux or macOS\n",
    "WINDOWS = 'nt'         # For Windows\n",
    "DATASET_FILENAME = \"trainee_dataset.zip\"\n"
   ]
  },
  {
   "cell_type": "markdown",
   "metadata": {},
   "source": [
    "## Path"
   ]
  },
  {
   "cell_type": "code",
   "execution_count": 3,
   "metadata": {},
   "outputs": [],
   "source": [
    "root_path = os.path.abspath(os.path.join('..')) \n",
    "dataset_file_path = os.path.join(root_path, DATASET_FILENAME)\n",
    "data_path = os.path.join(root_path, \"data\")"
   ]
  },
  {
   "cell_type": "markdown",
   "metadata": {},
   "source": [
    "## Unzip file"
   ]
  },
  {
   "cell_type": "code",
   "execution_count": null,
   "metadata": {},
   "outputs": [],
   "source": [
    "os.makedirs(data_path, exist_ok=True)\n",
    "\n",
    "with zipfile.ZipFile(dataset_file_path, 'r') as zip_ref:\n",
    "    for member in zip_ref.namelist():\n",
    "        if member.startswith('trainee_dataset/train/') or member.startswith('trainee_dataset/test/'):\n",
    "            if member.endswith('/'):\n",
    "                continue\n",
    "\n",
    "            filename = os.path.basename(member)\n",
    "\n",
    "            subfolder = 'train' if 'train/' in member else 'test'\n",
    "\n",
    "            try:\n",
    "                class_label = filename.split('_')[-1].split('.')[0]\n",
    "            except IndexError:\n",
    "                continue  \n",
    "            class_dir = os.path.join(data_path, subfolder, class_label)\n",
    "            os.makedirs(class_dir, exist_ok=True)\n",
    "            new_path = os.path.join(class_dir, filename)\n",
    "\n",
    "            with zip_ref.open(member) as source, open(new_path, 'wb') as target:\n",
    "                target.write(source.read())\n"
   ]
  }
 ],
 "metadata": {
  "kernelspec": {
   "display_name": "venv",
   "language": "python",
   "name": "python3"
  },
  "language_info": {
   "codemirror_mode": {
    "name": "ipython",
    "version": 3
   },
   "file_extension": ".py",
   "mimetype": "text/x-python",
   "name": "python",
   "nbconvert_exporter": "python",
   "pygments_lexer": "ipython3",
   "version": "3.11.0"
  }
 },
 "nbformat": 4,
 "nbformat_minor": 2
}
